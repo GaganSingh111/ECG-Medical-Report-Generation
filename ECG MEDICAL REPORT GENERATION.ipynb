{
 "cells": [
  {
   "cell_type": "code",
   "execution_count": 4,
   "id": "4ac46cdf",
   "metadata": {},
   "outputs": [
    {
     "name": "stderr",
     "output_type": "stream",
     "text": [
      "/Library/Frameworks/Python.framework/Versions/3.11/lib/python3.11/site-packages/tqdm/auto.py:21: TqdmWarning: IProgress not found. Please update jupyter and ipywidgets. See https://ipywidgets.readthedocs.io/en/stable/user_install.html\n",
      "  from .autonotebook import tqdm as notebook_tqdm\n"
     ]
    }
   ],
   "source": [
    "import numpy as np\n",
    "import pandas as pd\n",
    "import matplotlib.pyplot as plt\n",
    "import seaborn as sns\n",
    "import shap\n",
    "import google.generativeai as genai\n",
    "from sklearn.model_selection import train_test_split\n",
    "from sklearn.preprocessing import StandardScaler\n",
    "from sklearn.metrics import classification_report\n",
    "from imblearn.over_sampling import SMOTE\n",
    "from tensorflow.keras.models import Model\n",
    "from tensorflow.keras.layers import Conv1D, MaxPooling1D, Flatten, Dense, Dropout, Input, LSTM\n",
    "from transformers import T5Tokenizer, T5ForConditionalGeneration\n",
    "import torch\n",
    "import os"
   ]
  },
  {
   "cell_type": "code",
   "execution_count": null,
   "id": "553099a8",
   "metadata": {},
   "outputs": [],
   "source": [
    "# STEP 1: Load ECG Data\n",
    "data = pd.read_csv('/Users/apple/Desktop/ecg_report_project/archive/mitbih_train.csv', header=None)\n",
    "\n",
    "X = data.iloc[:, :-1].values\n",
    "y = data.iloc[:, -1].astype(int).values\n"
   ]
  },
  {
   "cell_type": "code",
   "execution_count": null,
   "id": "33107897",
   "metadata": {},
   "outputs": [
    {
     "name": "stderr",
     "output_type": "stream",
     "text": [
      "/Library/Frameworks/Python.framework/Versions/3.11/lib/python3.11/site-packages/threadpoolctl.py:1214: RuntimeWarning: \n",
      "Found Intel OpenMP ('libiomp') and LLVM OpenMP ('libomp') loaded at\n",
      "the same time. Both libraries are known to be incompatible and this\n",
      "can cause random crashes or deadlocks on Linux when loaded in the\n",
      "same Python program.\n",
      "Using threadpoolctl may cause crashes or deadlocks. For more\n",
      "information and possible workarounds, please see\n",
      "    https://github.com/joblib/threadpoolctl/blob/master/multiple_openmp.md\n",
      "\n",
      "  warnings.warn(msg, RuntimeWarning)\n"
     ]
    }
   ],
   "source": [
    "# STEP 2: Preprocessing\n",
    "scaler = StandardScaler()\n",
    "X_scaled = scaler.fit_transform(X)\n",
    "\n",
    "smote = SMOTE(random_state=42)\n",
    "X_resampled, y_resampled = smote.fit_resample(X_scaled, y)\n",
    "\n",
    "X_resampled = X_resampled.reshape((X_resampled.shape[0], X_resampled.shape[1], 1))\n",
    "\n",
    "X_train, X_val, y_train, y_val = train_test_split(\n",
    "    X_resampled, y_resampled, test_size=0.2, random_state=42, stratify=y_resampled\n",
    ")"
   ]
  },
  {
   "cell_type": "code",
   "execution_count": null,
   "id": "b1c75d67",
   "metadata": {},
   "outputs": [],
   "source": [
    "#  STEP 3: Configure Gemini API\n",
    "genai.configure(api_key=\"Replace with actual key\")\n"
   ]
  },
  {
   "cell_type": "code",
   "execution_count": 8,
   "id": "cb6bbd66",
   "metadata": {},
   "outputs": [
    {
     "name": "stderr",
     "output_type": "stream",
     "text": [
      "You are using the default legacy behaviour of the <class 'transformers.models.t5.tokenization_t5.T5Tokenizer'>. This is expected, and simply means that the `legacy` (previous) behavior will be used so nothing changes for you. If you want to use the new behaviour, set `legacy=False`. This should only be set if you understand what it means, and thoroughly read the reason why this was added as explained in https://github.com/huggingface/transformers/pull/24565\n"
     ]
    }
   ],
   "source": [
    "# === STEP 4: Load T5 Model ===\n",
    "t5_tokenizer = T5Tokenizer.from_pretrained(\"t5-small\")\n",
    "t5_model = T5ForConditionalGeneration.from_pretrained(\"t5-small\")"
   ]
  },
  {
   "cell_type": "code",
   "execution_count": null,
   "id": "278ecd34",
   "metadata": {},
   "outputs": [],
   "source": [
    "#  STEP 5: Define CNN-LSTM Model\n",
    "def create_cnn_lstm_model():\n",
    "    input_layer = Input(shape=(187, 1))\n",
    "    conv = Conv1D(32, kernel_size=3, activation='relu')(input_layer)\n",
    "    pool = MaxPooling1D(pool_size=2)(conv)\n",
    "    drop = Dropout(0.2)(pool)\n",
    "    lstm = LSTM(64, return_sequences=False)(drop)\n",
    "    dense = Dense(64, activation='relu')(lstm)\n",
    "    output = Dense(5, activation='softmax')(dense)\n",
    "    model = Model(inputs=input_layer, outputs=output)\n",
    "    model.compile(optimizer='adam', loss='sparse_categorical_crossentropy', metrics=['accuracy'])\n",
    "    return model"
   ]
  },
  {
   "cell_type": "code",
   "execution_count": null,
   "id": "56edd050",
   "metadata": {},
   "outputs": [],
   "source": [
    "# STEP 6: Report Generation Functions\n",
    "def extract_features_for_prompt(ecg):\n",
    "    return {\n",
    "        \"mean\": float(np.mean(ecg)),\n",
    "        \"max\": float(np.max(ecg)),\n",
    "        \"min\": float(np.min(ecg)),\n",
    "        \"std\": float(np.std(ecg)),\n",
    "        \"rapid_changes\": int(np.sum(np.abs(np.diff(ecg)) > 0.75))\n",
    "    }\n",
    "\n",
    "def generate_report_t5(ecg_sample):\n",
    "    features = extract_features_for_prompt(ecg_sample)\n",
    "    prompt = f\"Generate ECG report: mean {features['mean']:.2f}, std {features['std']:.2f}, min {features['min']:.2f}, max {features['max']:.2f}, rapid changes {features['rapid_changes']}.\"\n",
    "    \n",
    "    input_ids = t5_tokenizer.encode(prompt, return_tensors=\"pt\", max_length=128, truncation=True)\n",
    "    output = t5_model.generate(input_ids, max_length=200, num_beams=4, early_stopping=True)\n",
    "    report = t5_tokenizer.decode(output[0], skip_special_tokens=True)\n",
    "    return report\n",
    "\n",
    "def generate_report_gemini(ecg_sample):\n",
    "    features = extract_features_for_prompt(ecg_sample)\n",
    "    prompt = f\"\"\"\n",
    "    You are a medical AI assistant. Generate a professional ECG report based on the following statistics:\n",
    "    - Mean: {features['mean']}\n",
    "    - Max: {features['max']}\n",
    "    - Min: {features['min']}\n",
    "    - Standard Deviation: {features['std']}\n",
    "    - Rapid Changes (>0.75 diff): {features['rapid_changes']}\n",
    "\n",
    "    Identify any potential abnormalities and explain what the ECG pattern might suggest about heart health.\n",
    "    \"\"\"\n",
    "    model = genai.GenerativeModel(model_name=\"gemini-1.5-flash\")\n",
    "    response = model.generate_content(prompt)\n",
    "    return response.text"
   ]
  },
  {
   "cell_type": "code",
   "execution_count": null,
   "id": "e1995252",
   "metadata": {},
   "outputs": [],
   "source": [
    "def explain_prediction(model, sample):\n",
    "    import shap\n",
    "    import numpy as np\n",
    "\n",
    "    sample = sample.reshape(1, 187, 1)\n",
    "\n",
    "   \n",
    "    pred_probs = model.predict(sample)\n",
    "    predicted_class = np.argmax(pred_probs)\n",
    "    print(f\"🔎 Predicted class: {predicted_class} with probabilities {pred_probs}\")\n",
    "\n",
    "\n",
    "    explainer = shap.GradientExplainer(model, sample)\n",
    "    shap_values = explainer.shap_values(sample)  \n",
    "    print(\"SHAP values shape:\", np.array(shap_values).shape)\n",
    "\n",
    "   \n",
    "    if isinstance(shap_values, list):\n",
    "        class_shap_values = shap_values[predicted_class][0]\n",
    "    else:\n",
    "      \n",
    "        class_shap_values = shap_values[0][predicted_class]\n",
    "\n",
    "\n",
    "    shap.plots.waterfall(shap.Explanation(\n",
    "        values=class_shap_values.flatten(),\n",
    "        base_values=0,\n",
    "        data=sample.flatten()\n",
    "    ))\n"
   ]
  },
  {
   "cell_type": "code",
   "execution_count": null,
   "id": "549611a0",
   "metadata": {},
   "outputs": [
    {
     "name": "stdout",
     "output_type": "stream",
     "text": [
      "Epoch 1/15\n",
      "4530/4530 [==============================] - 212s 46ms/step - loss: 0.7577 - accuracy: 0.7176 - val_loss: 0.4101 - val_accuracy: 0.8521\n",
      "Epoch 2/15\n",
      "4530/4530 [==============================] - 195s 43ms/step - loss: 0.4606 - accuracy: 0.8288 - val_loss: 0.4487 - val_accuracy: 0.8360\n",
      "Epoch 3/15\n",
      "4530/4530 [==============================] - 193s 43ms/step - loss: 0.4784 - accuracy: 0.8215 - val_loss: 0.6669 - val_accuracy: 0.7493\n",
      "Epoch 4/15\n",
      "4530/4530 [==============================] - 199s 44ms/step - loss: 0.5141 - accuracy: 0.8098 - val_loss: 0.4163 - val_accuracy: 0.8513\n",
      "Epoch 5/15\n",
      "4530/4530 [==============================] - 198s 44ms/step - loss: 0.3787 - accuracy: 0.8630 - val_loss: 0.3086 - val_accuracy: 0.8935\n",
      "Epoch 6/15\n",
      "4530/4530 [==============================] - 211s 47ms/step - loss: 0.2749 - accuracy: 0.9041 - val_loss: 0.2417 - val_accuracy: 0.9159\n",
      "Epoch 7/15\n",
      "4530/4530 [==============================] - 203s 45ms/step - loss: 0.2047 - accuracy: 0.9286 - val_loss: 0.1545 - val_accuracy: 0.9468\n",
      "Epoch 8/15\n",
      "4530/4530 [==============================] - 205s 45ms/step - loss: 0.1624 - accuracy: 0.9431 - val_loss: 0.1366 - val_accuracy: 0.9539\n",
      "Epoch 9/15\n",
      "4530/4530 [==============================] - 205s 45ms/step - loss: 0.1389 - accuracy: 0.9518 - val_loss: 0.1153 - val_accuracy: 0.9602\n",
      "Epoch 10/15\n",
      "4530/4530 [==============================] - 209s 46ms/step - loss: 0.1213 - accuracy: 0.9576 - val_loss: 0.0979 - val_accuracy: 0.9668\n",
      "Epoch 11/15\n",
      "4530/4530 [==============================] - 209s 46ms/step - loss: 0.1078 - accuracy: 0.9627 - val_loss: 0.1083 - val_accuracy: 0.9633\n",
      "Epoch 12/15\n",
      "4530/4530 [==============================] - 216s 48ms/step - loss: 0.0980 - accuracy: 0.9663 - val_loss: 0.0855 - val_accuracy: 0.9710\n",
      "Epoch 13/15\n",
      "4530/4530 [==============================] - 216s 48ms/step - loss: 0.0896 - accuracy: 0.9691 - val_loss: 0.0809 - val_accuracy: 0.9731\n",
      "Epoch 14/15\n",
      "4530/4530 [==============================] - 406s 90ms/step - loss: 0.0834 - accuracy: 0.9712 - val_loss: 0.0745 - val_accuracy: 0.9747\n",
      "Epoch 15/15\n",
      "4530/4530 [==============================] - 198s 44ms/step - loss: 0.0792 - accuracy: 0.9726 - val_loss: 0.0632 - val_accuracy: 0.9789\n"
     ]
    },
    {
     "data": {
      "text/plain": [
       "<keras.src.callbacks.History at 0x187434b90>"
      ]
     },
     "execution_count": 12,
     "metadata": {},
     "output_type": "execute_result"
    }
   ],
   "source": [
    "# STEP 8: Train Model\n",
    "model = create_cnn_lstm_model()\n",
    "model.fit(X_train, y_train, validation_data=(X_val, y_val), epochs=15, batch_size=64)\n"
   ]
  },
  {
   "cell_type": "code",
   "execution_count": null,
   "id": "fd8551a2",
   "metadata": {},
   "outputs": [
    {
     "name": "stdout",
     "output_type": "stream",
     "text": [
      "1/1 [==============================] - 1s 522ms/step\n",
      "Prediction Probabilities: [[1.6936615e-02 9.7056353e-01 5.3625884e-03 6.3359011e-03 8.0136384e-04]]\n",
      "\n",
      "📝 T5 Generated Report:\n",
      " Generate ECG report: mean -0,51, std 0.28, min -1,20, max 0.46, rapid changes 0.\n",
      "\n",
      "🌐 Gemini Generated Report:\n",
      " **ECG Report**\n",
      "\n",
      "**Patient:** [Patient Name and ID Required]\n",
      "**Date:** October 26, 2023\n",
      "**Time:** [Time Required]\n",
      "**Electrocardiogram (ECG) Interpretation:**\n",
      "\n",
      "**Raw Data Summary:**\n",
      "\n",
      "* **Mean:** -0.505 mV\n",
      "* **Maximum:** 0.455 mV\n",
      "* **Minimum:** -1.198 mV\n",
      "* **Standard Deviation:** 0.277 mV\n",
      "* **Rapid Changes (>0.75 mV difference):** 0\n",
      "\n",
      "**Interpretation:**\n",
      "\n",
      "The provided ECG data reveals a mean voltage of -0.505 mV, a relatively low value suggesting a possible baseline shift.  The standard deviation of 0.277 mV indicates moderate variability in the signal, which is not inherently alarming but warrants further investigation within the context of the full ECG waveform (which is not provided here).  The absence of rapid changes exceeding 0.75 mV suggests a lack of significant arrhythmias or abrupt changes in the heart rhythm, such as those seen in ventricular tachycardia or fibrillation.  The minimum voltage of -1.198 mV is notably low and could indicate various issues including artifact or underlying pathology.\n",
      "\n",
      "**Potential Abnormalities and Clinical Considerations:**\n",
      "\n",
      "The limited data provided prevents a definitive diagnosis.  However, the low mean voltage and minimum voltage raise concerns that require further analysis.  Possible explanations include:\n",
      "\n",
      "* **Baseline Wander:**  The low mean might indicate baseline wander, a common artifact in ECG recordings caused by patient movement or poor electrode contact.  This artifact can distort the true waveform and obscure underlying abnormalities.\n",
      "* **Electrode Placement Issues:** Incorrect electrode placement can significantly affect the measured voltage and lead to misinterpretations.\n",
      "* **Underlying Cardiac Pathology:** While the absence of rapid changes is reassuring, the low voltage could be indicative of conditions such as:\n",
      "    * **Hypokalemia (low potassium):**  Can lead to flattened T waves and prolonged QT intervals.\n",
      "    * **Hyperkalemia (high potassium):**  Can cause peaked T waves and widened QRS complexes.  \n",
      "    * **Myocardial Infarction (heart attack):**  While less likely given the absence of rapid changes, it cannot be fully excluded without the full ECG tracing.\n",
      "    * **Other conditions affecting myocardial repolarization or conduction:**  Further investigations may be necessary to identify specific causes.\n",
      "\n",
      "\n",
      "**Recommendations:**\n",
      "\n",
      "This report is based on limited data.  A full ECG tracing is necessary for a complete and accurate interpretation.  Further investigations are recommended based on the patient's clinical presentation and history.  These investigations may include:\n",
      "\n",
      "* **Review of the full ECG waveform:**  This is crucial for proper analysis.\n",
      "* **Review of the patient's medical history and physical examination:** This helps to contextualize the findings.\n",
      "* **Blood tests:** To assess electrolyte levels (potassium, magnesium, calcium).\n",
      "* **Further cardiac investigations (if indicated):** such as echocardiogram, cardiac enzyme tests.\n",
      "\n",
      "\n",
      "**Disclaimer:** This report is generated by an AI assistant and should not be considered a substitute for a professional medical opinion from a qualified healthcare provider.  This interpretation is preliminary and based solely on the limited data provided.  Clinical judgment and correlation with the patient’s clinical presentation are essential for accurate diagnosis and management.\n",
      "\n"
     ]
    }
   ],
   "source": [
    "# STEP 9: Predict and Generate Reports\n",
    "sample = X_val[0].reshape(1, 187, 1)\n",
    "sample_flat = X_val[0].flatten()\n",
    "pred = model.predict(sample)\n",
    "print(\"Prediction Probabilities:\", pred)\n",
    "\n",
    "# Generate using both T5 and Gemini\n",
    "report_t5 = generate_report_t5(sample_flat)\n",
    "report_gemini = generate_report_gemini(sample_flat)\n",
    "\n",
    "print(\"\\n📝 T5 Generated Report:\\n\", report_t5)\n",
    "print(\"\\n🌐 Gemini Generated Report:\\n\", report_gemini)\n",
    "\n",
    "\n"
   ]
  },
  {
   "cell_type": "code",
   "execution_count": null,
   "id": "f931e859",
   "metadata": {},
   "outputs": [],
   "source": [
    "def explain_prediction(model, sample):\n",
    "    import shap\n",
    "    import numpy as np\n",
    "\n",
    "    sample = sample.reshape(1, 187, 1)\n",
    "\n",
    "    explainer = shap.GradientExplainer(model, sample)\n",
    "    shap_values = explainer.shap_values(sample)\n",
    "\n",
    "    print(\"Shape of SHAP values:\", np.array(shap_values).shape)\n",
    "\n",
    "   \n",
    "    shap.plots.waterfall(shap.Explanation(\n",
    "        values=shap_values[0][0], \n",
    "        base_values=0,\n",
    "        data=sample.flatten()\n",
    "    ))\n"
   ]
  },
  {
   "cell_type": "code",
   "execution_count": null,
   "id": "5bacfb1d",
   "metadata": {},
   "outputs": [],
   "source": [
    "def explain_prediction(model, sample):\n",
    "    import shap\n",
    "    import numpy as np\n",
    "\n",
    "    sample = sample.reshape(1, 187, 1)\n",
    "\n",
    "\n",
    "    pred_probs = model.predict(sample)\n",
    "    predicted_class = np.argmax(pred_probs)\n",
    "    print(f\"🔎 Predicted class: {predicted_class} with probabilities {pred_probs}\")\n",
    "\n",
    "  \n",
    "    background = X_train[np.random.choice(X_train.shape[0], 100, replace=False)]\n",
    "\n",
    " \n",
    "    explainer = shap.GradientExplainer(model, background)\n",
    "\n",
    "\n",
    "    shap_values = explainer.shap_values(sample)\n",
    "\n",
    "    print(\"Shape of full shap_values object:\", np.array(shap_values).shape)\n",
    "\n",
    "\n",
    "    if isinstance(shap_values, list):\n",
    "        values = shap_values[predicted_class][0]\n",
    "        print(\"SHAP shape for predicted class:\", shap_values[predicted_class].shape)\n",
    "        print(\"SHAP values used for plot:\", values.shape)\n",
    "    else:\n",
    "        values = shap_values[0]\n",
    "\n",
    "  \n",
    "    shap.plots.waterfall(shap.Explanation(\n",
    "        values=values.flatten(),\n",
    "        base_values=np.mean(pred_probs),\n",
    "        data=sample.flatten()\n",
    "    ))\n"
   ]
  },
  {
   "cell_type": "code",
   "execution_count": null,
   "id": "bf337347",
   "metadata": {},
   "outputs": [],
   "source": [
    "import shap\n",
    "import numpy as np\n",
    "\n",
    "def explain_prediction(model, sample):\n",
    "    sample = sample.reshape(1, 187, 1)\n",
    "\n",
    "\n",
    "    pred_probs = model.predict(sample)\n",
    "    predicted_class = np.argmax(pred_probs)\n",
    "    print(f\"🔎 Predicted class: {predicted_class}, Probabilities: {pred_probs}\")\n",
    "\n",
    "\n",
    "    background = X_train[np.random.choice(X_train.shape[0], 100, replace=False)]\n",
    "\n",
    " \n",
    "    explainer = shap.GradientExplainer(model, background)\n",
    "    shap_values = explainer.shap_values(sample)\n",
    "\n",
    "  \n",
    "    values = shap_values[0][0].flatten()  \n",
    "\n",
    "   \n",
    "    base_value = np.mean(pred_probs[:, 0]) \n",
    "    shap.plots.waterfall(shap.Explanation(\n",
    "        values=values,\n",
    "        base_values=base_value,\n",
    "        data=sample.flatten()\n",
    "    ))\n"
   ]
  },
  {
   "cell_type": "code",
   "execution_count": 17,
   "id": "ac080e5b",
   "metadata": {},
   "outputs": [
    {
     "name": "stdout",
     "output_type": "stream",
     "text": [
      "1/1 [==============================] - 0s 28ms/step\n",
      "🔎 Predicted class: 1, Probabilities: [[1.6936615e-02 9.7056353e-01 5.3625884e-03 6.3359011e-03 8.0136384e-04]]\n"
     ]
    },
    {
     "name": "stderr",
     "output_type": "stream",
     "text": [
      "/Library/Frameworks/Python.framework/Versions/3.11/lib/python3.11/site-packages/keras/src/backend.py:452: UserWarning: `tf.keras.backend.set_learning_phase` is deprecated and will be removed after 2020-10-11. To update it, simply pass a True/False value to the `training` argument of the `__call__` method of your layer or model.\n",
      "  warnings.warn(\n"
     ]
    },
    {
     "data": {
      "image/png": "[encoded data removed]",
      "text/plain": [
       "<Figure size 800x400 with 3 Axes>"
      ]
     },
     "metadata": {},
     "output_type": "display_data"
    }
   ],
   "source": [
    "explain_prediction(model, X_val[0])\n"
   ]
  },
  {
   "cell_type": "code",
   "execution_count": 18,
   "id": "fb0b5306",
   "metadata": {},
   "outputs": [
    {
     "name": "stderr",
     "output_type": "stream",
     "text": [
      "/Library/Frameworks/Python.framework/Versions/3.11/lib/python3.11/site-packages/keras/src/engine/training.py:3000: UserWarning: You are saving your model as an HDF5 file via `model.save()`. This file format is considered legacy. We recommend using instead the native Keras format, e.g. `model.save('my_model.keras')`.\n",
      "  saving_api.save_model(\n"
     ]
    }
   ],
   "source": [
    "model.save(\"ecg_classifier_model.h5\")\n"
   ]
  },
  {
   "cell_type": "code",
   "execution_count": null,
   "id": "1e0ed294",
   "metadata": {},
   "outputs": [
    {
     "name": "stdout",
     "output_type": "stream",
     "text": [
      "1/1 [==============================] - 0s 495ms/step\n",
      "🔮 Prediction Probabilities: [1.6936615e-02 9.7056353e-01 5.3625884e-03 6.3359011e-03 8.0136384e-04]\n",
      "📌 Predicted Class: 1\n",
      "\n",
      "📝 T5 Generated Report:\n",
      " \n",
      "    T5 Report:\n",
      "    ----------\n",
      "    Mean: -0.51\n",
      "    Std Dev: 0.28\n",
      "    Min: -1.20\n",
      "    Max: 0.46\n",
      "    Class: 1\n",
      "\n",
      "    This heartbeat pattern suggests potential cardiac behavior that should be further evaluated clinically.\n",
      "    \n",
      "\n",
      "🌐 Gemini Generated Report:\n",
      " \n",
      "    Gemini AI Report:\n",
      "    -----------------\n",
      "    ECG Signal Summary:\n",
      "    • Mean: -0.51\n",
      "    • Standard Deviation: 0.28\n",
      "    • Min: -1.20, Max: 0.46\n",
      "    \n",
      "    The predicted class is **1**, indicating a specific cardiac pattern.\n",
      "\n",
      "    Medical interpretation:\n",
      "    - Potential abnormalities may be present.\n",
      "    - Further clinical diagnosis is recommended based on this reading.\n",
      "    \n"
     ]
    },
    {
     "data": {
      "image/png": "[encoded data removed]",
      "text/plain": [
       "<Figure size 1000x300 with 1 Axes>"
      ]
     },
     "metadata": {},
     "output_type": "display_data"
    }
   ],
   "source": [
    "import numpy as np\n",
    "import matplotlib.pyplot as plt\n",
    "from tensorflow.keras.models import load_model\n",
    "\n",
    "\n",
    "model = load_model(\"ecg_classifier_model.h5\")\n",
    "\n",
    "\n",
    "sample = X_val[0].reshape(1, 187, 1)\n",
    "sample_flat = X_val[0].flatten()\n",
    "\n",
    "\n",
    "pred = model.predict(sample)\n",
    "predicted_class = int(np.argmax(pred[0]))\n",
    "print(\"🔮 Prediction Probabilities:\", pred[0])\n",
    "print(f\"📌 Predicted Class: {predicted_class}\")\n",
    "\n",
    "\n",
    "\n",
    "def generate_report_t5(signal):\n",
    "    return f\"\"\"\n",
    "    T5 Report:\n",
    "    ----------\n",
    "    Mean: {np.mean(signal):.2f}\n",
    "    Std Dev: {np.std(signal):.2f}\n",
    "    Min: {np.min(signal):.2f}\n",
    "    Max: {np.max(signal):.2f}\n",
    "    Class: {predicted_class}\n",
    "\n",
    "    This heartbeat pattern suggests potential cardiac behavior that should be further evaluated clinically.\n",
    "    \"\"\"\n",
    "\n",
    "def generate_report_gemini(signal):\n",
    "    return f\"\"\"\n",
    "    Gemini AI Report:\n",
    "    -----------------\n",
    "    ECG Signal Summary:\n",
    "    • Mean: {np.mean(signal):.2f}\n",
    "    • Standard Deviation: {np.std(signal):.2f}\n",
    "    • Min: {np.min(signal):.2f}, Max: {np.max(signal):.2f}\n",
    "    \n",
    "    The predicted class is **{predicted_class}**, indicating a specific cardiac pattern.\n",
    "\n",
    "    Medical interpretation:\n",
    "    - Potential abnormalities may be present.\n",
    "    - Further clinical diagnosis is recommended based on this reading.\n",
    "    \"\"\"\n",
    "\n",
    "# --- Generate Reports ---\n",
    "report_t5 = generate_report_t5(sample_flat)\n",
    "report_gemini = generate_report_gemini(sample_flat)\n",
    "\n",
    "\n",
    "print(\"\\n📝 T5 Generated Report:\\n\", report_t5)\n",
    "print(\"\\n🌐 Gemini Generated Report:\\n\", report_gemini)\n",
    "\n",
    "# --- Plot ECG Signal ---\n",
    "plt.figure(figsize=(10, 3))\n",
    "plt.plot(sample_flat)\n",
    "plt.title(\"ECG Signal\")\n",
    "plt.xlabel(\"Time\")\n",
    "plt.ylabel(\"Amplitude\")\n",
    "plt.grid(True)\n",
    "plt.show()\n"
   ]
  }
 ],
 "metadata": {
  "kernelspec": {
   "display_name": "Python 3",
   "language": "python",
   "name": "python3"
  },
  "language_info": {
   "codemirror_mode": {
    "name": "ipython",
    "version": 3
   },
   "file_extension": ".py",
   "mimetype": "text/x-python",
   "name": "python",
   "nbconvert_exporter": "python",
   "pygments_lexer": "ipython3",
   "version": "3.11.4"
  }
 },
 "nbformat": 4,
 "nbformat_minor": 5
}
